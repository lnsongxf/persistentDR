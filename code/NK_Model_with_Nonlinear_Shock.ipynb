{
 "cells": [
  {
   "cell_type": "code",
   "execution_count": 1,
   "metadata": {},
   "outputs": [
    {
     "name": "stdout",
     "output_type": "stream",
     "text": [
      "14 -1\n"
     ]
    }
   ],
   "source": [
    "#set NK parameters and points for the x and y grid of the heatmap\n",
    "import numpy as np\n",
    "import canonical_nk as nk\n",
    "params_d = {'beta': 0.99, 'gamma_pi': 1.5, 'gamma_y': 0.25, 'kappa': 0.05, 'dpbar': 1.005}\n",
    "params = np.array(list(params_d.values()))\n",
    "\n",
    "\n",
    "p = 0.99\n",
    "q = 0.85\n",
    "ns = 51\n",
    "P = nk.transmat(ns,p,p)\n",
    "Q = nk.transmat(ns,q,q)\n",
    "etastd = 0.0035\n",
    "psi = np.sqrt(ns-1)*etastd\n",
    "eta = np.linspace(-psi,psi,num=ns)\n",
    "ar_lim = 2\n",
    "Ptil = np.zeros([ns,ns])\n",
    "for i in np.arange(ns):\n",
    "    if np.abs(eta[i]) <= ar_lim*etastd:\n",
    "        Ptil[i,:] = P[i,:]\n",
    "    else:\n",
    "        Ptil[i,:] = Q[i,:]\n",
    "(solution_type,yy,dp,notr,nomr) = nk.solve_model(eta,Ptil,params,ns)\n",
    "(yyu,dpu,notru,nomru) = nk.solve_case(eta,Ptil,params,ns,0)\n",
    "(solution_type1,yy1,dp1,notr1,nomr1) = nk.solve_model(eta,P,params,ns)\n",
    "print(solution_type,solution_type1)"
   ]
  },
  {
   "cell_type": "code",
   "execution_count": 2,
   "metadata": {},
   "outputs": [
    {
     "name": "stderr",
     "output_type": "stream",
     "text": [
      "/msu/home/m1gsa00/.conda/envs/py36/lib/python3.6/site-packages/matplotlib/figure.py:1743: UserWarning: This figure includes Axes that are not compatible with tight_layout, so its results might be incorrect.\n",
      "  warnings.warn(\"This figure includes Axes that are not \"\n"
     ]
    },
    {
     "data": {
      "image/png": "[encoded data removed]",
      "text/plain": [
       "<matplotlib.figure.Figure at 0x7f7f9d4fcef0>"
      ]
     },
     "metadata": {},
     "output_type": "display_data"
    }
   ],
   "source": [
    "#Plot IRFs of linear and nonlinear model\n",
    "import matplotlib.pyplot as plt\n",
    "start = 3\n",
    "end = ns+1-3\n",
    "fig1, axs1 = plt.subplots(2, 2, tight_layout=True)\n",
    "axs1[0,0].plot(eta[start:end]/etastd,100*yy[start:end],linewidth=3,label='Constrained') \n",
    "axs1[0,0].plot(eta[start:end]/etastd,100*yyu[start:end],'r:',linewidth=3,\\\n",
    "               label='Unconstrained') \n",
    "axs1[0,0].set_title('Output Gap')\n",
    "axs1[0,1].plot(eta[start:end]/etastd,400*dp[start:end],linewidth=3,label='Constrained')\n",
    "axs1[0,1].plot(eta[start:end]/etastd,400*dpu[start:end],'r:',linewidth=3,\\\n",
    "               label='Unconstrained')\n",
    "axs1[0,1].set_title('Inflation')\n",
    "axs1[1,0].plot(eta[start:end]/etastd,400*nomr[start:end],linewidth=3,label='Constrained')\n",
    "axs1[1,0].plot(eta[start:end]/etastd,400*notru[start:end],'r:',linewidth=3,\\\n",
    "               label='Unconstrained')\n",
    "axs1[1,0].set_title('Nominal Rate')\n",
    "axs1[1,1].plot(eta[start:end]/etastd,400*notr[start:end],linewidth=3,label='Constrained') \n",
    "axs1[1,1].plot(eta[start:end]/etastd,400*notru[start:end],'r:',linewidth=3,\\\n",
    "               label='Unconstrained') \n",
    "axs1[1,1].set_title('Notional Rate')\n",
    "plt.show()"
   ]
  },
  {
   "cell_type": "code",
   "execution_count": 3,
   "metadata": {
    "collapsed": true
   },
   "outputs": [],
   "source": [
    "#generate Heat Maps\n",
    "Nrow = 100\n",
    "Ncol = 100\n",
    "pvec = np.linspace(0.95,0.995,num=Ncol)\n",
    "eta_psi = np.linspace(0.005,0.035,num=Nrow)\n",
    "rhoeta = 2*pvec-1\n",
    "stdeta = eta_psi/np.sqrt(ns-1)\n",
    "sol = np.zeros([Nrow,Ncol],dtype=int)\n",
    "sol1 = np.zeros([Nrow,Ncol],dtype=int)\n",
    "\n",
    "for i in np.arange(Ncol):\n",
    "    for j in np.arange(Nrow):\n",
    "        psi = eta_psi[j]\n",
    "        p = pvec[i]\n",
    "        eta = np.linspace(-psi,psi,num=ns)\n",
    "        P = nk.transmat(ns,p,p)\n",
    "        for k in np.arange(ns):\n",
    "            if np.abs(eta[k]) <= ar_lim*etastd:\n",
    "                Ptil[k,:] = P[k,:]\n",
    "            else:\n",
    "                Ptil[k,:] = Q[k,:]\n",
    "        (sol[j,i],yy,dp,notr,nomr) = nk.solve_model(eta,Ptil,params,ns)\n",
    "        (sol1[j,i],yy,dp,notr,nomr) = nk.solve_model(eta,P,params,ns)"
   ]
  },
  {
   "cell_type": "code",
   "execution_count": 4,
   "metadata": {},
   "outputs": [
    {
     "ename": "NameError",
     "evalue": "name 'fig2' is not defined",
     "output_type": "error",
     "traceback": [
      "\u001b[0;31m---------------------------------------------------------------------------\u001b[0m",
      "\u001b[0;31mNameError\u001b[0m                                 Traceback (most recent call last)",
      "\u001b[0;32m<ipython-input-4-380a9891ae41>\u001b[0m in \u001b[0;36m<module>\u001b[0;34m()\u001b[0m\n\u001b[1;32m      4\u001b[0m \u001b[0maxs3\u001b[0m\u001b[0;34m.\u001b[0m\u001b[0mset_ylabel\u001b[0m\u001b[0;34m(\u001b[0m\u001b[0;34m'AR(1) Coefficient'\u001b[0m\u001b[0;34m)\u001b[0m\u001b[0;34m\u001b[0m\u001b[0m\n\u001b[1;32m      5\u001b[0m \u001b[0maxs3\u001b[0m\u001b[0;34m.\u001b[0m\u001b[0mset_title\u001b[0m\u001b[0;34m(\u001b[0m\u001b[0;34m'Standard AR(1)'\u001b[0m\u001b[0;34m)\u001b[0m\u001b[0;34m\u001b[0m\u001b[0m\n\u001b[0;32m----> 6\u001b[0;31m \u001b[0mfig2\u001b[0m\u001b[0;34m.\u001b[0m\u001b[0mcolorbar\u001b[0m\u001b[0;34m(\u001b[0m\u001b[0mpos\u001b[0m\u001b[0;34m,\u001b[0m\u001b[0max\u001b[0m\u001b[0;34m=\u001b[0m\u001b[0maxs3\u001b[0m\u001b[0;34m)\u001b[0m\u001b[0;34m\u001b[0m\u001b[0m\n\u001b[0m\u001b[1;32m      7\u001b[0m \u001b[0;34m\u001b[0m\u001b[0m\n\u001b[1;32m      8\u001b[0m \u001b[0;34m\u001b[0m\u001b[0m\n",
      "\u001b[0;31mNameError\u001b[0m: name 'fig2' is not defined"
     ]
    }
   ],
   "source": [
    "fig3, axs3 = plt.subplots(1, 1)\n",
    "pos = axs3.contourf(100.0*stdeta, rhoeta, sol1,extend='neither',\\\n",
    "                    levels=[-1.5,-0.5,0.5,ns],colors=('w','b','r'))\n",
    "axs3.set_xlabel('Standard deviation of $\\eta_t$')\n",
    "axs3.set_ylabel('AR(1) Coefficient')\n",
    "axs3.set_title('Standard AR(1)')\n",
    "\n",
    "\n",
    "fig2, axs2 = plt.subplots(1, 1)\n",
    "fig2.colorbar(pos,ax=axs3)\n",
    "\n",
    "pos = axs2.contourf(100.0*stdeta, rhoeta, sol,extend='neither',\\\n",
    "                    levels=[-1.5,-0.5,0.5,ns],colors=('w','b','r'))\n",
    "axs2.set_xlabel('Standard deviation of $\\eta_t$')\n",
    "axs2.set_ylabel('AR(1) Coefficient')\n",
    "axs2.set_title('AR(1) with Regimes')\n",
    "fig2.colorbar(pos,ax=axs2)\n",
    "plt.show()"
   ]
  },
  {
   "cell_type": "code",
   "execution_count": null,
   "metadata": {},
   "outputs": [],
   "source": []
  },
  {
   "cell_type": "code",
   "execution_count": null,
   "metadata": {
    "collapsed": true
   },
   "outputs": [],
   "source": []
  }
 ],
 "metadata": {
  "kernelspec": {
   "display_name": "Python [py36]",
   "language": "python",
   "name": "Python [py36]"
  },
  "language_info": {
   "codemirror_mode": {
    "name": "ipython",
    "version": 3
   },
   "file_extension": ".py",
   "mimetype": "text/x-python",
   "name": "python",
   "nbconvert_exporter": "python",
   "pygments_lexer": "ipython3",
   "version": "3.6.1"
  }
 },
 "nbformat": 4,
 "nbformat_minor": 2
}
