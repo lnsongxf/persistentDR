{
 "cells": [
  {
   "cell_type": "code",
   "execution_count": 20,
   "metadata": {},
   "outputs": [
    {
     "name": "stdout",
     "output_type": "stream",
     "text": [
      "0.96 0.0024748737341529167 0.0006929646455628168 0.024748737341529166 -1 -1\n"
     ]
    }
   ],
   "source": [
    "#set NK parameters and points for the x and y grid of the heatmap\n",
    "import numpy as np\n",
    "import canonical_nk as nk\n",
    "params_d = {'beta': 0.99, 'gamma_pi': 1.5, 'gamma_y': 0.25, 'kappa': 0.05, 'dpbar': 1.005}\n",
    "params = np.array(list(params_d.values()))\n",
    "\n",
    "\n",
    "p = 0.98\n",
    "rho = 2*p-1\n",
    "ns = 51\n",
    "P = nk.transmat(ns,p,p)\n",
    "etastd = 0.0035\n",
    "\n",
    "psi = np.sqrt(ns-1)*etastd\n",
    "eta = np.linspace(-psi,psi,num=ns)\n",
    "(solution_type,yy,dp,notr,nomr) = nk.solve_model(eta,P,params,ns)\n",
    "\n",
    "ns1 = 101\n",
    "etastd1 = psi/np.sqrt(ns1-1)\n",
    "innovstd = np.sqrt(1-rho**2)*etastd1\n",
    "P1 =nk.transmat(ns,p,p)\n",
    "eta1 = np.linspace(-psi,psi,num=ns)\n",
    "(solution_type1,yy1,dp1,notr1,nomr1) = nk.solve_model(eta1,P1,params,ns)\n",
    "print(rho,etastd1,innovstd,psi,solution_type,solution_type1)"
   ]
  },
  {
   "cell_type": "code",
   "execution_count": 2,
   "metadata": {
    "collapsed": true
   },
   "outputs": [],
   "source": [
    "#generate Heat Map data\n",
    "Nrow = 50\n",
    "Ncol = 50\n",
    "pvec = np.linspace(0.95,0.995,num=Ncol)\n",
    "eta_psi = np.linspace(0.005,0.035,num=Nrow)\n",
    "rhoeta = 2*pvec-1\n",
    "stdeta = eta_psi/np.sqrt(ns-1)\n",
    "stdeta1 = eta_psi/np.sqrt(ns1-1)\n",
    "sol = np.zeros([Nrow,Ncol],dtype=int)\n",
    "sol1 = np.zeros([Nrow,Ncol],dtype=int)\n",
    "\n",
    "for i in np.arange(Ncol):\n",
    "    for j in np.arange(Nrow):\n",
    "        psi = eta_psi[j]\n",
    "        p = pvec[i]\n",
    "        eta = np.linspace(-psi,psi,num=ns)\n",
    "        P = nk.transmat(ns,p,p)\n",
    "        eta1 = np.linspace(-psi,psi,num=ns1)\n",
    "        P1 = nk.transmat(ns1,p,p)\n",
    "        (sol[j,i],yy,dp,notr,nomr) = nk.solve_model(eta,P,params,ns)\n",
    "        (sol1[j,i],yy,dp,notr,nomr) = nk.solve_model(eta1,P1,params,ns1)"
   ]
  },
  {
   "cell_type": "code",
   "execution_count": 3,
   "metadata": {},
   "outputs": [
    {
     "data": {
      "text/plain": [
       "array([[ 0,  0,  0, ...,  0,  0,  0],\n",
       "       [ 0,  0,  0, ...,  0,  0,  0],\n",
       "       [ 0,  0,  0, ...,  2,  2, -1],\n",
       "       ...,\n",
       "       [16, 16, 16, ..., -1, -1, -1],\n",
       "       [16, 16, 16, ..., -1, -1, -1],\n",
       "       [16, 16, 17, ..., -1, -1, -1]])"
      ]
     },
     "execution_count": 3,
     "metadata": {},
     "output_type": "execute_result"
    }
   ],
   "source": [
    "sol[:35,:]"
   ]
  },
  {
   "cell_type": "code",
   "execution_count": 4,
   "metadata": {},
   "outputs": [
    {
     "data": {
      "text/plain": [
       "<matplotlib.figure.Figure at 0x10e2fb4e0>"
      ]
     },
     "metadata": {},
     "output_type": "display_data"
    },
    {
     "data": {
      "text/plain": [
       "<matplotlib.figure.Figure at 0x11a1ba518>"
      ]
     },
     "metadata": {},
     "output_type": "display_data"
    }
   ],
   "source": [
    "#generate heat map as function of rho and range of shock\n",
    "import matplotlib.pyplot as plt\n",
    "fig3, axs3 = plt.subplots(1, 1)\n",
    "pos = axs3.contourf(100.0*eta_psi, rhoeta, sol,extend='neither',\\\n",
    "                    levels=[-1.5,-0.5,0.5,ns],colors=('w','b','r'))\n",
    "axs3.set_xlabel('Range of eta Shock')\n",
    "axs3.set_ylabel('AR(1) Coefficient')\n",
    "axs3.set_title('Ns = 51')\n",
    "\n",
    "fig2, axs2 = plt.subplots(1, 1)\n",
    "fig2.colorbar(pos,ax=axs3)\n",
    "\n",
    "pos = axs2.contourf(100.0*eta_psi, rhoeta, sol1,extend='neither',\\\n",
    "                    levels=[-1.5,-0.5,0.5,ns],colors=('w','b','r'))\n",
    "axs2.set_xlabel('Range of Eta Shock')\n",
    "axs2.set_ylabel('AR(1) Coefficient')\n",
    "axs2.set_title('Ns = 101')\n",
    "fig2.colorbar(pos,ax=axs2)\n",
    "plt.show()"
   ]
  },
  {
   "cell_type": "code",
   "execution_count": 5,
   "metadata": {
    "collapsed": true
   },
   "outputs": [
    {
     "data": {
      "image/png": "[encoded data removed]",
      "text/plain": [
       "<matplotlib.figure.Figure at 0x11a0f9780>"
      ]
     },
     "metadata": {},
     "output_type": "display_data"
    },
    {
     "data": {
      "image/png": "[encoded data removed]",
      "text/plain": [
       "<matplotlib.figure.Figure at 0x11a30ccc0>"
      ]
     },
     "metadata": {},
     "output_type": "display_data"
    }
   ],
   "source": [
    "#generate heat map as function of rho and std. deviation of shock\n",
    "import matplotlib.pyplot as plt\n",
    "fig3, axs3 = plt.subplots(1, 1)\n",
    "pos = axs3.contourf(100.0*stdeta[:35], rhoeta, sol[:,:35],extend='neither',\\\n",
    "                    levels=[-1.5,-0.5,0.5,ns],colors=('w','b','r'))\n",
    "axs3.set_xlabel('Std Dev. of eta Shock')\n",
    "axs3.set_ylabel('AR(1) Coefficient')\n",
    "axs3.set_title('Ns = 51')\n",
    "\n",
    "fig2, axs2 = plt.subplots(1, 1)\n",
    "fig2.colorbar(pos,ax=axs3)\n",
    "\n",
    "pos = axs2.contourf(100.0*stdeta1, rhoeta, sol1,extend='neither',\\\n",
    "                    levels=[-1.5,-0.5,0.5,ns],colors=('w','b','r'))\n",
    "axs2.set_xlabel('Std. Dev. of Eta Shock')\n",
    "axs2.set_ylabel('AR(1) Coefficient')\n",
    "axs2.set_title('Ns = 101')\n",
    "fig2.colorbar(pos,ax=axs2)\n",
    "plt.show()"
   ]
  },
  {
   "cell_type": "code",
   "execution_count": null,
   "metadata": {},
   "outputs": [],
   "source": []
  },
  {
   "cell_type": "code",
   "execution_count": null,
   "metadata": {},
   "outputs": [],
   "source": []
  }
 ],
 "metadata": {
  "kernelspec": {
   "display_name": "Python 3",
   "language": "python",
   "name": "python3"
  },
  "language_info": {
   "codemirror_mode": {
    "name": "ipython",
    "version": 3
   },
   "file_extension": ".py",
   "mimetype": "text/x-python",
   "name": "python",
   "nbconvert_exporter": "python",
   "pygments_lexer": "ipython3",
   "version": "3.6.4"
  }
 },
 "nbformat": 4,
 "nbformat_minor": 2
}
